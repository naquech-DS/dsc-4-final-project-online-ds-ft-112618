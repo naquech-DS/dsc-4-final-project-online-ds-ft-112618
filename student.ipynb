{
 "cells": [
  {
   "cell_type": "markdown",
   "metadata": {},
   "source": [
    "## Final Project Submission\n",
    "\n",
    "Please fill out:\n",
    "* Student name: Natalia Quintero\n",
    "* Student pace: full time\n",
    "* Scheduled project review date/time: Friday March 22, 2019 \n",
    "* Instructor name: Rafael Carrasco\n",
    "* Blog post URL: https://naquech.github.io/ "
   ]
  },
  {
   "cell_type": "markdown",
   "metadata": {},
   "source": [
    "----------------\n",
    "# Text Classification / NLP\n",
    "\n",
    "Sentiment analysis focuses on analyzing and undertsanding emotions from subjective text patterns; it identifies opinions and attitudes towards certain topics and is usefuls in classifying viewpoints as positive or negative. \n",
    "\n",
    "The data set for this project is sourced from <a href='https://www.figure-eight.com/data-for-everyone/'> Figure Eight</a> platform and the name of the set is Sentiment Analysis on Global Warming/Climate Change. The set contains three classifications: Yes if the tweet suggests global warming existence, No if the tweet is in disagrement, and neutral if the tweet isnot engaged on either side. A column with the confidence score for the classification of each tweet is included in the set with a total of 6090 rows."
   ]
  },
  {
   "cell_type": "markdown",
   "metadata": {},
   "source": [
    "------------------\n",
    "# Dataset\n",
    "\n",
    "\n"
   ]
  },
  {
   "cell_type": "markdown",
   "metadata": {},
   "source": [
    "--------\n",
    "# Data Acquisition"
   ]
  },
  {
   "cell_type": "code",
   "execution_count": 1,
   "metadata": {},
   "outputs": [],
   "source": [
    "import pandas as pd"
   ]
  },
  {
   "cell_type": "code",
   "execution_count": 2,
   "metadata": {},
   "outputs": [
    {
     "data": {
      "text/html": [
       "<div>\n",
       "<style scoped>\n",
       "    .dataframe tbody tr th:only-of-type {\n",
       "        vertical-align: middle;\n",
       "    }\n",
       "\n",
       "    .dataframe tbody tr th {\n",
       "        vertical-align: top;\n",
       "    }\n",
       "\n",
       "    .dataframe thead th {\n",
       "        text-align: right;\n",
       "    }\n",
       "</style>\n",
       "<table border=\"1\" class=\"dataframe\">\n",
       "  <thead>\n",
       "    <tr style=\"text-align: right;\">\n",
       "      <th></th>\n",
       "      <th>tweet</th>\n",
       "      <th>existence</th>\n",
       "      <th>existence.confidence</th>\n",
       "    </tr>\n",
       "  </thead>\n",
       "  <tbody>\n",
       "    <tr>\n",
       "      <th>0</th>\n",
       "      <td>Global warming report urges governments to act...</td>\n",
       "      <td>Yes</td>\n",
       "      <td>1.0000</td>\n",
       "    </tr>\n",
       "    <tr>\n",
       "      <th>1</th>\n",
       "      <td>Fighting poverty and global warming in Africa ...</td>\n",
       "      <td>Yes</td>\n",
       "      <td>1.0000</td>\n",
       "    </tr>\n",
       "    <tr>\n",
       "      <th>2</th>\n",
       "      <td>Carbon offsets: How a Vatican forest failed to...</td>\n",
       "      <td>Yes</td>\n",
       "      <td>0.8786</td>\n",
       "    </tr>\n",
       "    <tr>\n",
       "      <th>3</th>\n",
       "      <td>Carbon offsets: How a Vatican forest failed to...</td>\n",
       "      <td>Yes</td>\n",
       "      <td>1.0000</td>\n",
       "    </tr>\n",
       "    <tr>\n",
       "      <th>4</th>\n",
       "      <td>URUGUAY: Tools Needed for Those Most Vulnerabl...</td>\n",
       "      <td>Yes</td>\n",
       "      <td>0.8087</td>\n",
       "    </tr>\n",
       "    <tr>\n",
       "      <th>5</th>\n",
       "      <td>RT @sejorg: RT @JaymiHeimbuch: Ocean Saltiness...</td>\n",
       "      <td>Yes</td>\n",
       "      <td>1.0000</td>\n",
       "    </tr>\n",
       "    <tr>\n",
       "      <th>6</th>\n",
       "      <td>Global warming evidence all around us|A messag...</td>\n",
       "      <td>Yes</td>\n",
       "      <td>1.0000</td>\n",
       "    </tr>\n",
       "    <tr>\n",
       "      <th>7</th>\n",
       "      <td>Migratory Birds' New Climate Change Strategy: ...</td>\n",
       "      <td>Yes</td>\n",
       "      <td>1.0000</td>\n",
       "    </tr>\n",
       "    <tr>\n",
       "      <th>8</th>\n",
       "      <td>Southern Africa: Competing for Limpopo Water: ...</td>\n",
       "      <td>Yes</td>\n",
       "      <td>1.0000</td>\n",
       "    </tr>\n",
       "    <tr>\n",
       "      <th>9</th>\n",
       "      <td>Global warming to impact wheat, rice productio...</td>\n",
       "      <td>Yes</td>\n",
       "      <td>1.0000</td>\n",
       "    </tr>\n",
       "    <tr>\n",
       "      <th>10</th>\n",
       "      <td>How do we solve this global warming thing? [link]</td>\n",
       "      <td>Yes</td>\n",
       "      <td>0.9073</td>\n",
       "    </tr>\n",
       "    <tr>\n",
       "      <th>11</th>\n",
       "      <td>Blog|A preliminary analysis suggests that natu...</td>\n",
       "      <td>Yes</td>\n",
       "      <td>1.0000</td>\n",
       "    </tr>\n",
       "    <tr>\n",
       "      <th>12</th>\n",
       "      <td>Ecotone: #Climate change from a #population pe...</td>\n",
       "      <td>Yes</td>\n",
       "      <td>0.5488</td>\n",
       "    </tr>\n",
       "    <tr>\n",
       "      <th>13</th>\n",
       "      <td>Climate change blamed as coastal whale migrati...</td>\n",
       "      <td>Yes</td>\n",
       "      <td>0.8823</td>\n",
       "    </tr>\n",
       "    <tr>\n",
       "      <th>14</th>\n",
       "      <td>Spring storm season starting a little late thi...</td>\n",
       "      <td>NaN</td>\n",
       "      <td>1.0000</td>\n",
       "    </tr>\n",
       "    <tr>\n",
       "      <th>15</th>\n",
       "      <td>Government Report Says Global Warming May Caus...</td>\n",
       "      <td>Yes</td>\n",
       "      <td>0.7500</td>\n",
       "    </tr>\n",
       "    <tr>\n",
       "      <th>16</th>\n",
       "      <td>For #EarthDay Global warming could affect pati...</td>\n",
       "      <td>Yes</td>\n",
       "      <td>1.0000</td>\n",
       "    </tr>\n",
       "    <tr>\n",
       "      <th>17</th>\n",
       "      <td>Wait here's an idea: it's natural climate chan...</td>\n",
       "      <td>No</td>\n",
       "      <td>0.6648</td>\n",
       "    </tr>\n",
       "    <tr>\n",
       "      <th>18</th>\n",
       "      <td>EPA issues report on U.S. climate change indic...</td>\n",
       "      <td>Yes</td>\n",
       "      <td>1.0000</td>\n",
       "    </tr>\n",
       "    <tr>\n",
       "      <th>19</th>\n",
       "      <td>QUT researchers track climate change [link]</td>\n",
       "      <td>Yes</td>\n",
       "      <td>0.5194</td>\n",
       "    </tr>\n",
       "  </tbody>\n",
       "</table>\n",
       "</div>"
      ],
      "text/plain": [
       "                                                tweet existence  \\\n",
       "0   Global warming report urges governments to act...       Yes   \n",
       "1   Fighting poverty and global warming in Africa ...       Yes   \n",
       "2   Carbon offsets: How a Vatican forest failed to...       Yes   \n",
       "3   Carbon offsets: How a Vatican forest failed to...       Yes   \n",
       "4   URUGUAY: Tools Needed for Those Most Vulnerabl...       Yes   \n",
       "5   RT @sejorg: RT @JaymiHeimbuch: Ocean Saltiness...       Yes   \n",
       "6   Global warming evidence all around us|A messag...       Yes   \n",
       "7   Migratory Birds' New Climate Change Strategy: ...       Yes   \n",
       "8   Southern Africa: Competing for Limpopo Water: ...       Yes   \n",
       "9   Global warming to impact wheat, rice productio...       Yes   \n",
       "10  How do we solve this global warming thing? [link]       Yes   \n",
       "11  Blog|A preliminary analysis suggests that natu...       Yes   \n",
       "12  Ecotone: #Climate change from a #population pe...       Yes   \n",
       "13  Climate change blamed as coastal whale migrati...       Yes   \n",
       "14  Spring storm season starting a little late thi...       NaN   \n",
       "15  Government Report Says Global Warming May Caus...       Yes   \n",
       "16  For #EarthDay Global warming could affect pati...       Yes   \n",
       "17  Wait here's an idea: it's natural climate chan...        No   \n",
       "18  EPA issues report on U.S. climate change indic...       Yes   \n",
       "19        QUT researchers track climate change [link]       Yes   \n",
       "\n",
       "    existence.confidence  \n",
       "0                 1.0000  \n",
       "1                 1.0000  \n",
       "2                 0.8786  \n",
       "3                 1.0000  \n",
       "4                 0.8087  \n",
       "5                 1.0000  \n",
       "6                 1.0000  \n",
       "7                 1.0000  \n",
       "8                 1.0000  \n",
       "9                 1.0000  \n",
       "10                0.9073  \n",
       "11                1.0000  \n",
       "12                0.5488  \n",
       "13                0.8823  \n",
       "14                1.0000  \n",
       "15                0.7500  \n",
       "16                1.0000  \n",
       "17                0.6648  \n",
       "18                1.0000  \n",
       "19                0.5194  "
      ]
     },
     "execution_count": 2,
     "metadata": {},
     "output_type": "execute_result"
    }
   ],
   "source": [
    "data = pd.read_csv('tweet_global_warming.csv', encoding=\"ISO-8859-1\")\n",
    "data.head(20)"
   ]
  },
  {
   "cell_type": "markdown",
   "metadata": {},
   "source": [
    "### Observations\n",
    "We can see upper case words, some special characters (@, #, [link]) and punctuation; all of this needs to be removed before moving forward. The NaN values are clasified as neutral or ambiguous."
   ]
  },
  {
   "cell_type": "markdown",
   "metadata": {},
   "source": [
    "------------\n",
    "# Feature Engineering"
   ]
  },
  {
   "cell_type": "code",
   "execution_count": 3,
   "metadata": {},
   "outputs": [],
   "source": [
    "import matplotlib.pyplot as plt\n",
    "import numpy as np\n"
   ]
  },
  {
   "cell_type": "markdown",
   "metadata": {},
   "source": [
    "### Dataset Overview "
   ]
  },
  {
   "cell_type": "code",
   "execution_count": 4,
   "metadata": {},
   "outputs": [
    {
     "data": {
      "text/plain": [
       "(6090, 3)"
      ]
     },
     "execution_count": 4,
     "metadata": {},
     "output_type": "execute_result"
    }
   ],
   "source": [
    "#shape\n",
    "data.shape"
   ]
  },
  {
   "cell_type": "code",
   "execution_count": 5,
   "metadata": {},
   "outputs": [
    {
     "data": {
      "text/plain": [
       "Y      2554\n",
       "N      1053\n",
       "Yes     557\n",
       "No       61\n",
       "Name: existence, dtype: int64"
      ]
     },
     "execution_count": 5,
     "metadata": {},
     "output_type": "execute_result"
    }
   ],
   "source": [
    "#label column\n",
    "data['existence'].value_counts()"
   ]
  },
  {
   "cell_type": "markdown",
   "metadata": {},
   "source": [
    "We can see the column *(existence)* needs to be consolidated. When looking at the data file, the single letter classification starts around the 1100 row."
   ]
  },
  {
   "cell_type": "markdown",
   "metadata": {},
   "source": [
    "### Initial Cleaning"
   ]
  },
  {
   "cell_type": "code",
   "execution_count": 6,
   "metadata": {},
   "outputs": [],
   "source": [
    "#column consolidation\n",
    "data.loc[data['existence'] == 'Y', 'existence'] = 'Yes'\n",
    "data.loc[data['existence'] == 'N', 'existence'] = 'No'"
   ]
  },
  {
   "cell_type": "code",
   "execution_count": 7,
   "metadata": {},
   "outputs": [
    {
     "data": {
      "text/plain": [
       "Yes    3111\n",
       "No     1114\n",
       "Name: existence, dtype: int64"
      ]
     },
     "execution_count": 7,
     "metadata": {},
     "output_type": "execute_result"
    }
   ],
   "source": [
    "data['existence'].value_counts()"
   ]
  },
  {
   "cell_type": "code",
   "execution_count": 8,
   "metadata": {},
   "outputs": [
    {
     "data": {
      "text/plain": [
       "1865"
      ]
     },
     "execution_count": 8,
     "metadata": {},
     "output_type": "execute_result"
    }
   ],
   "source": [
    "#check for NaN -- this is what they have called neutral\n",
    "data['existence'].isna().sum()"
   ]
  },
  {
   "cell_type": "code",
   "execution_count": 9,
   "metadata": {},
   "outputs": [],
   "source": [
    "data['existence'].replace(np.nan, 'Neutral', inplace=True)"
   ]
  },
  {
   "cell_type": "code",
   "execution_count": 10,
   "metadata": {},
   "outputs": [
    {
     "data": {
      "text/plain": [
       "Yes        3111\n",
       "Neutral    1865\n",
       "No         1114\n",
       "Name: existence, dtype: int64"
      ]
     },
     "execution_count": 10,
     "metadata": {},
     "output_type": "execute_result"
    }
   ],
   "source": [
    "data['existence'].value_counts()"
   ]
  },
  {
   "cell_type": "code",
   "execution_count": 11,
   "metadata": {},
   "outputs": [
    {
     "data": {
      "image/png": "[encoded data removed]",
      "text/plain": [
       "<Figure size 432x288 with 1 Axes>"
      ]
     },
     "metadata": {
      "needs_background": "light"
     },
     "output_type": "display_data"
    }
   ],
   "source": [
    "#Distribution of the data\n",
    "data['existence'].value_counts().plot(kind='bar', title='Sentiment Distribution');"
   ]
  },
  {
   "cell_type": "markdown",
   "metadata": {},
   "source": [
    "### Feature Engineering for Text Data\n",
    "\n",
    "* Lowercase all text\n",
    "* Remove stop words and punctuation\n",
    "* Tokenize data\n",
    "* Frequency distribution\n",
    "* Remove suffixes throught techniques suc as stemming or lemmatization"
   ]
  },
  {
   "cell_type": "code",
   "execution_count": 13,
   "metadata": {},
   "outputs": [],
   "source": [
    "import nltk\n",
    "from nltk.corpus import stopwords\n",
    "from nltk.collocations import *\n",
    "from nltk import word_tokenize\n",
    "import string, re"
   ]
  },
  {
   "cell_type": "code",
   "execution_count": 14,
   "metadata": {},
   "outputs": [
    {
     "name": "stdout",
     "output_type": "stream",
     "text": [
      "RT @sejorg: RT @JaymiHeimbuch: Ocean Saltiness Shows Global Warming Is Intensifying Our Water Cycle [link] \n",
      "\n",
      "How do we solve this global warming thing? [link] \n",
      "\n",
      "effects of global warming ¥Ë_ YouTube ¥Ë_ Effects of Global Warming Stats: Back with more news for you today. It's ama... [link] \n",
      "\n",
      "Memo On The White House Correspondents Dinner: If You Want To Be Green, Report On Climate Change: I'd never be on... [link] \n",
      "\n",
      "Conservation International:: Give a gift that helps prevent climate change, provides habitat for endangered specie... [link] \n",
      "\n",
      "Many global issues require universal co-operation to address e.g. smallpox, ozone layer, climate change \n",
      "\n"
     ]
    }
   ],
   "source": [
    "#print some tweets to look at what needs to be extracted\n",
    "\n",
    "print(data['tweet'][5], '\\n')\n",
    "print(data['tweet'][10], '\\n')\n",
    "print(data['tweet'][25], '\\n')\n",
    "print(data['tweet'][50], '\\n')\n",
    "print(data['tweet'][500], '\\n')\n",
    "print(data['tweet'][1236], '\\n')"
   ]
  },
  {
   "cell_type": "code",
   "execution_count": 15,
   "metadata": {},
   "outputs": [],
   "source": [
    "def remove_pattern(input_txt, pattern):\n",
    "    r = re.findall(pattern, input_txt)\n",
    "    for i in r:\n",
    "        input_txt = re.sub(i, '', input_txt)\n",
    "    return input_txt"
   ]
  },
  {
   "cell_type": "code",
   "execution_count": 16,
   "metadata": {},
   "outputs": [
    {
     "name": "stdout",
     "output_type": "stream",
     "text": [
      "RT : RT : Ocean Saltiness Shows Global Warming Is Intensifying Our Water Cycle [link] \n",
      "\n"
     ]
    }
   ],
   "source": [
    "#remove @users\n",
    "data['tweet'] = np.vectorize(remove_pattern)(data['tweet'], \"@[\\w]*\") \n",
    "print(data['tweet'][5], '\\n')"
   ]
  },
  {
   "cell_type": "code",
   "execution_count": 17,
   "metadata": {},
   "outputs": [
    {
     "name": "stdout",
     "output_type": "stream",
     "text": [
      "RT   RT   Ocean Saltiness Shows Global Warming Is Intensifying Our Water Cycle  link  \n",
      "\n"
     ]
    }
   ],
   "source": [
    "#remove puntuaction\n",
    "data['tweet'] = data['tweet'].str.replace(\"[^a-zA-Z#]\", \" \")\n",
    "print(data['tweet'][5], '\\n')"
   ]
  },
  {
   "cell_type": "code",
   "execution_count": 18,
   "metadata": {},
   "outputs": [],
   "source": [
    "# remove stop words + short words\n",
    "stopwords_list = stopwords.words('english')\n",
    "stopwords_list += ['link']"
   ]
  },
  {
   "cell_type": "code",
   "execution_count": 19,
   "metadata": {},
   "outputs": [],
   "source": [
    "def process_article(tweet):\n",
    "    tokens = nltk.word_tokenize(tweet) \n",
    "    stopwords_removed = [token.lower() for token in tokens if token not in stopwords_list and len(token) > 4]\n",
    "    return stopwords_removed"
   ]
  },
  {
   "cell_type": "code",
   "execution_count": 20,
   "metadata": {},
   "outputs": [],
   "source": [
    "processed_data = list(map(process_article, data['tweet']))"
   ]
  },
  {
   "cell_type": "code",
   "execution_count": 21,
   "metadata": {},
   "outputs": [
    {
     "name": "stdout",
     "output_type": "stream",
     "text": [
      "['ocean', 'saltiness', 'shows', 'global', 'warming', 'intensifying', 'water', 'cycle'] \n",
      "\n",
      "['solve', 'global', 'warming', 'thing'] \n",
      "\n",
      "['effects', 'global', 'warming', 'youtube', 'effects', 'global', 'warming', 'stats', 'today'] \n",
      "\n",
      "['white', 'house', 'correspondents', 'dinner', 'green', 'report', 'climate', 'change', 'never'] \n",
      "\n",
      "['conservation', 'international', 'helps', 'prevent', 'climate', 'change', 'provides', 'habitat', 'endangered', 'specie'] \n",
      "\n",
      "['global', 'issues', 'require', 'universal', 'operation', 'address', 'smallpox', 'ozone', 'layer', 'climate', 'change'] \n",
      "\n"
     ]
    }
   ],
   "source": [
    "print(processed_data[5], '\\n')\n",
    "print(processed_data[10], '\\n')\n",
    "print(processed_data[25], '\\n')\n",
    "print(processed_data[50], '\\n')\n",
    "print(processed_data[500], '\\n')\n",
    "print(processed_data[1236], '\\n')"
   ]
  },
  {
   "cell_type": "code",
   "execution_count": null,
   "metadata": {},
   "outputs": [],
   "source": []
  },
  {
   "cell_type": "code",
   "execution_count": null,
   "metadata": {},
   "outputs": [],
   "source": []
  },
  {
   "cell_type": "code",
   "execution_count": null,
   "metadata": {},
   "outputs": [],
   "source": []
  },
  {
   "cell_type": "code",
   "execution_count": null,
   "metadata": {},
   "outputs": [],
   "source": []
  },
  {
   "cell_type": "markdown",
   "metadata": {},
   "source": [
    "------------\n",
    "# Summary\n",
    "\n",
    "* hhfdaslfhaslf"
   ]
  },
  {
   "cell_type": "markdown",
   "metadata": {},
   "source": [
    "-------------\n",
    "# References\n",
    "\n",
    "\n",
    "https://stackoverflow.com/questions/19699367/unicodedecodeerror-utf-8-codec-cant-decode-byte"
   ]
  },
  {
   "cell_type": "code",
   "execution_count": null,
   "metadata": {},
   "outputs": [],
   "source": []
  }
 ],
 "metadata": {
  "kernelspec": {
   "display_name": "Python 3",
   "language": "python",
   "name": "python3"
  },
  "language_info": {
   "codemirror_mode": {
    "name": "ipython",
    "version": 3
   },
   "file_extension": ".py",
   "mimetype": "text/x-python",
   "name": "python",
   "nbconvert_exporter": "python",
   "pygments_lexer": "ipython3",
   "version": "3.7.2"
  }
 },
 "nbformat": 4,
 "nbformat_minor": 2
}
